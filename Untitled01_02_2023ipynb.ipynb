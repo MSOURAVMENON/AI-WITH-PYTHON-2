{
  "nbformat": 4,
  "nbformat_minor": 0,
  "metadata": {
    "colab": {
      "provenance": []
    },
    "kernelspec": {
      "name": "python3",
      "display_name": "Python 3"
    },
    "language_info": {
      "name": "python"
    }
  },
  "cells": [
    {
      "cell_type": "code",
      "execution_count": 1,
      "metadata": {
        "id": "ha-mmcSfc7-P"
      },
      "outputs": [],
      "source": [
        "x=[1,2,3,4,5,6,7,8,9,10]\n",
        "def total(x):\n",
        "  print(sum(x))"
      ]
    },
    {
      "cell_type": "code",
      "source": [
        "total(x)\n"
      ],
      "metadata": {
        "colab": {
          "base_uri": "https://localhost:8080/"
        },
        "id": "cXxUmpVbdSd4",
        "outputId": "dad2e51d-4545-48ac-b1f9-286dde11038d"
      },
      "execution_count": 2,
      "outputs": [
        {
          "output_type": "stream",
          "name": "stdout",
          "text": [
            "55\n"
          ]
        }
      ]
    },
    {
      "cell_type": "code",
      "source": [
        "x=[1,2,3,4,5,6,7,8,9,10]"
      ],
      "metadata": {
        "id": "Tr-5F3TtdWDE"
      },
      "execution_count": 13,
      "outputs": []
    },
    {
      "cell_type": "code",
      "source": [
        "def odds(x):\n",
        "  for k in x:\n",
        "    if k % 2 ==1:\n",
        "      print(k)\n"
      ],
      "metadata": {
        "id": "txsazgVXdrYp"
      },
      "execution_count": 14,
      "outputs": []
    },
    {
      "cell_type": "code",
      "source": [
        "odds(x)"
      ],
      "metadata": {
        "colab": {
          "base_uri": "https://localhost:8080/"
        },
        "id": "9ktrWqGofdzN",
        "outputId": "213a9b5d-a64c-4ca8-c376-fb5ff8781b05"
      },
      "execution_count": 15,
      "outputs": [
        {
          "output_type": "stream",
          "name": "stdout",
          "text": [
            "1\n",
            "3\n",
            "5\n",
            "7\n",
            "9\n"
          ]
        }
      ]
    },
    {
      "cell_type": "code",
      "source": [
        "def eve(x):\n",
        "  for k in x:\n",
        "    if k % 2!=0:\n",
        "      print(k)\n",
        "    "
      ],
      "metadata": {
        "id": "RaOAgIfrffLn"
      },
      "execution_count": 26,
      "outputs": []
    },
    {
      "cell_type": "code",
      "source": [
        "eve(x)"
      ],
      "metadata": {
        "colab": {
          "base_uri": "https://localhost:8080/"
        },
        "id": "JAvV-WSOgMvs",
        "outputId": "79cc553f-9048-4238-d10e-eab8362f1c8c"
      },
      "execution_count": 27,
      "outputs": [
        {
          "output_type": "stream",
          "name": "stdout",
          "text": [
            "1\n",
            "3\n",
            "5\n",
            "7\n",
            "9\n"
          ]
        }
      ]
    },
    {
      "cell_type": "code",
      "source": [
        "x = \"Python is a high-level, general-purpose programming language\"\n",
        "\n",
        "vowels = ['a', 'e', 'i', 'o', 'u', 'A', 'E', 'I', 'O', 'U']\n",
        "b = \"\"\n",
        "\n",
        "for i in range(len(x)):\n",
        "    if x[i] not in vowels:\n",
        "        b = b + x[i]\n",
        "\n",
        "print(\"\\nAfter removing Vowels: \", b)"
      ],
      "metadata": {
        "colab": {
          "base_uri": "https://localhost:8080/"
        },
        "id": "i1LaXFCmguLj",
        "outputId": "48a37d06-8fec-4fc2-c363-0885add168ed"
      },
      "execution_count": 32,
      "outputs": [
        {
          "output_type": "stream",
          "name": "stdout",
          "text": [
            "\n",
            "After removing Vowels:  Pythn s  hgh-lvl, gnrl-prps prgrmmng lngg\n"
          ]
        }
      ]
    },
    {
      "cell_type": "code",
      "source": [],
      "metadata": {
        "id": "w1WV8sc0oo3D"
      },
      "execution_count": null,
      "outputs": []
    },
    {
      "cell_type": "code",
      "source": [],
      "metadata": {
        "id": "pzt4GzEfl4bG"
      },
      "execution_count": null,
      "outputs": []
    }
  ]
}