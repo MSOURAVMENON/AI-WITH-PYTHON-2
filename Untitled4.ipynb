{
  "nbformat": 4,
  "nbformat_minor": 0,
  "metadata": {
    "colab": {
      "provenance": []
    },
    "kernelspec": {
      "name": "python3",
      "display_name": "Python 3"
    },
    "language_info": {
      "name": "python"
    }
  },
  "cells": [
    {
      "cell_type": "code",
      "execution_count": 1,
      "metadata": {
        "colab": {
          "base_uri": "https://localhost:8080/"
        },
        "id": "4xMFKZTruUHE",
        "outputId": "33ee1656-af66-4c20-9e6e-87dc8d068748"
      },
      "outputs": [
        {
          "output_type": "execute_result",
          "data": {
            "text/plain": [
              "14"
            ]
          },
          "metadata": {},
          "execution_count": 1
        }
      ],
      "source": [
        "x=\"M Sourav Menon\"\n",
        "len(x)"
      ]
    },
    {
      "cell_type": "code",
      "source": [
        "x=[\"John\",\"Mary\",\"david\",\"adam\",]\n",
        "print(x)\n",
        "type(x)"
      ],
      "metadata": {
        "colab": {
          "base_uri": "https://localhost:8080/"
        },
        "id": "v4eCqehjvkno",
        "outputId": "24144e65-4dda-4a8f-a003-3f6e9160b37d"
      },
      "execution_count": 3,
      "outputs": [
        {
          "output_type": "stream",
          "name": "stdout",
          "text": [
            "['John', 'Mary', 'david', 'adam']\n"
          ]
        },
        {
          "output_type": "execute_result",
          "data": {
            "text/plain": [
              "list"
            ]
          },
          "metadata": {},
          "execution_count": 3
        }
      ]
    },
    {
      "cell_type": "code",
      "source": [
        "x=[\"Sourav Menon\",9070,8092003, 19,\"Vennala shobha road\"]\n",
        "print(x)\n",
        "type(x)"
      ],
      "metadata": {
        "colab": {
          "base_uri": "https://localhost:8080/"
        },
        "id": "p7qBJGA0v64V",
        "outputId": "c22e5f02-e8c7-41bf-dfb9-da56fc249e09"
      },
      "execution_count": 14,
      "outputs": [
        {
          "output_type": "stream",
          "name": "stdout",
          "text": [
            "['Sourav Menon', 9070, 8092003, 19, 'Vennala shobha road']\n"
          ]
        },
        {
          "output_type": "execute_result",
          "data": {
            "text/plain": [
              "list"
            ]
          },
          "metadata": {},
          "execution_count": 14
        }
      ]
    },
    {
      "cell_type": "code",
      "source": [
        "x[0]"
      ],
      "metadata": {
        "colab": {
          "base_uri": "https://localhost:8080/",
          "height": 35
        },
        "id": "2flYMCfVwtc2",
        "outputId": "19006217-509b-4d79-acff-82da0d574f8d"
      },
      "execution_count": 19,
      "outputs": [
        {
          "output_type": "execute_result",
          "data": {
            "text/plain": [
              "'Sourav Menon'"
            ],
            "application/vnd.google.colaboratory.intrinsic+json": {
              "type": "string"
            }
          },
          "metadata": {},
          "execution_count": 19
        }
      ]
    },
    {
      "cell_type": "code",
      "source": [
        "x[-1]"
      ],
      "metadata": {
        "colab": {
          "base_uri": "https://localhost:8080/",
          "height": 35
        },
        "id": "gvBFixQ6w1Za",
        "outputId": "db1313a7-d3d6-4902-da8e-b136aa85961f"
      },
      "execution_count": 18,
      "outputs": [
        {
          "output_type": "execute_result",
          "data": {
            "text/plain": [
              "'Vennala shobha road'"
            ],
            "application/vnd.google.colaboratory.intrinsic+json": {
              "type": "string"
            }
          },
          "metadata": {},
          "execution_count": 18
        }
      ]
    },
    {
      "cell_type": "code",
      "source": [
        "x[0:4]"
      ],
      "metadata": {
        "colab": {
          "base_uri": "https://localhost:8080/"
        },
        "id": "kNkHeGZIxdek",
        "outputId": "fbc01cf3-9f97-470b-ef13-eeedefa2f433"
      },
      "execution_count": 22,
      "outputs": [
        {
          "output_type": "execute_result",
          "data": {
            "text/plain": [
              "['Sourav Menon', 9070, 8092003, 19]"
            ]
          },
          "metadata": {},
          "execution_count": 22
        }
      ]
    },
    {
      "cell_type": "code",
      "source": [
        "a=[1,2,3,4,5,6,7,8,9,10]\n",
        "print(a)"
      ],
      "metadata": {
        "colab": {
          "base_uri": "https://localhost:8080/"
        },
        "id": "gQVts7XLyawY",
        "outputId": "4ae87acc-91dc-4999-e297-d8d45a361ef1"
      },
      "execution_count": 25,
      "outputs": [
        {
          "output_type": "stream",
          "name": "stdout",
          "text": [
            "[1, 2, 3, 4, 5, 6, 7, 8, 9, 10]\n"
          ]
        }
      ]
    },
    {
      "cell_type": "code",
      "source": [
        "a[-1]"
      ],
      "metadata": {
        "colab": {
          "base_uri": "https://localhost:8080/"
        },
        "id": "RvEMn_g3y8yb",
        "outputId": "4269d2c4-08d3-4227-9b06-64b1785d219f"
      },
      "execution_count": 29,
      "outputs": [
        {
          "output_type": "execute_result",
          "data": {
            "text/plain": [
              "10"
            ]
          },
          "metadata": {},
          "execution_count": 29
        }
      ]
    },
    {
      "cell_type": "code",
      "source": [
        "a[0:4]"
      ],
      "metadata": {
        "colab": {
          "base_uri": "https://localhost:8080/"
        },
        "id": "9rb9317PzHoT",
        "outputId": "b37dd02f-f1c3-496c-ccdd-aed6fce2c406"
      },
      "execution_count": 28,
      "outputs": [
        {
          "output_type": "execute_result",
          "data": {
            "text/plain": [
              "[1, 2, 3, 4]"
            ]
          },
          "metadata": {},
          "execution_count": 28
        }
      ]
    },
    {
      "cell_type": "code",
      "source": [
        "a[-8:-5]"
      ],
      "metadata": {
        "colab": {
          "base_uri": "https://localhost:8080/"
        },
        "id": "e8bYH-0MzL-7",
        "outputId": "b04bb925-be95-433e-d302-93086c83e207"
      },
      "execution_count": 33,
      "outputs": [
        {
          "output_type": "execute_result",
          "data": {
            "text/plain": [
              "[3, 4, 5]"
            ]
          },
          "metadata": {},
          "execution_count": 33
        }
      ]
    },
    {
      "cell_type": "code",
      "source": [
        "x=[1, 2, 3, 4, 5, 6, 7, 8, 9, 10]\n",
        "x[0]=10"
      ],
      "metadata": {
        "id": "0lnJrLRMz8SN"
      },
      "execution_count": 40,
      "outputs": []
    },
    {
      "cell_type": "code",
      "source": [
        "x"
      ],
      "metadata": {
        "colab": {
          "base_uri": "https://localhost:8080/"
        },
        "id": "wcUBtthY0nmW",
        "outputId": "9cd5eae7-e9eb-47b4-a4b0-af440b51999e"
      },
      "execution_count": 41,
      "outputs": [
        {
          "output_type": "execute_result",
          "data": {
            "text/plain": [
              "[10, 2, 3, 4, 5, 6, 7, 8, 9, 10]"
            ]
          },
          "metadata": {},
          "execution_count": 41
        }
      ]
    },
    {
      "cell_type": "code",
      "source": [
        "x=[\"Sourav Menon\",9070,8092003, 19,\"Vennala shobha road\"]\n",
        "x[4]=\"rajagiri\"\n"
      ],
      "metadata": {
        "id": "Hg1ojfpF1diA"
      },
      "execution_count": 46,
      "outputs": []
    },
    {
      "cell_type": "code",
      "source": [
        "x"
      ],
      "metadata": {
        "colab": {
          "base_uri": "https://localhost:8080/"
        },
        "id": "HynA8ZVQ1ww5",
        "outputId": "c40f17d4-21d7-444d-e399-abd0e9855145"
      },
      "execution_count": 47,
      "outputs": [
        {
          "output_type": "execute_result",
          "data": {
            "text/plain": [
              "['Sourav Menon', 9070, 8092003, 19, 'rajagiri']"
            ]
          },
          "metadata": {},
          "execution_count": 47
        }
      ]
    },
    {
      "cell_type": "code",
      "source": [
        "x=[3,6,9,12]\n",
        "x.append(69)"
      ],
      "metadata": {
        "id": "hGNXfhmN2QyX"
      },
      "execution_count": 49,
      "outputs": []
    },
    {
      "cell_type": "code",
      "source": [
        "x"
      ],
      "metadata": {
        "colab": {
          "base_uri": "https://localhost:8080/"
        },
        "id": "K_G-wto93lhU",
        "outputId": "81f1502a-fdfd-4e16-904a-a13f8aeba476"
      },
      "execution_count": 50,
      "outputs": [
        {
          "output_type": "execute_result",
          "data": {
            "text/plain": [
              "[3, 6, 9, 12, 69]"
            ]
          },
          "metadata": {},
          "execution_count": 50
        }
      ]
    },
    {
      "cell_type": "code",
      "source": [
        "x=[]\n",
        "for i in range(4):\n",
        "  y=input(\"enter name\")\n",
        "  x.append(y)\n",
        "print(x)"
      ],
      "metadata": {
        "colab": {
          "base_uri": "https://localhost:8080/"
        },
        "id": "bQ3PE5863rXK",
        "outputId": "21965592-daa4-40f7-e791-5ae8fbc46d56"
      },
      "execution_count": 55,
      "outputs": [
        {
          "output_type": "stream",
          "name": "stdout",
          "text": [
            "enter nameso\n",
            "enter nameur\n",
            "enter nameav\n",
            "enter nameme\n",
            "['so', 'ur', 'av', 'me']\n"
          ]
        }
      ]
    },
    {
      "cell_type": "code",
      "source": [
        "x=[]\n",
        "i=0\n",
        "while i<4:\n",
        "  y=input(\"enter name\")\n",
        "  x.append(y)\n",
        "  i=i+1\n",
        "  print(x)"
      ],
      "metadata": {
        "colab": {
          "base_uri": "https://localhost:8080/"
        },
        "id": "zc-ddnBl4WDP",
        "outputId": "04c28345-bcd1-4aa4-97fc-98212cb28af8"
      },
      "execution_count": 61,
      "outputs": [
        {
          "output_type": "stream",
          "name": "stdout",
          "text": [
            "enter namesourav\n",
            "['sourav']\n",
            "enter namemenon\n",
            "['sourav', 'menon']\n",
            "enter namesourav \n",
            "['sourav', 'menon', 'sourav ']\n",
            "enter namemenon\n",
            "['sourav', 'menon', 'sourav ', 'menon']\n"
          ]
        }
      ]
    },
    {
      "cell_type": "code",
      "source": [
        "x=[12,24,56,34,23,1,21,23,54,34,23,]\n",
        "y=x.copy()\n",
        "print(y)"
      ],
      "metadata": {
        "colab": {
          "base_uri": "https://localhost:8080/"
        },
        "id": "Urm7CYHN5vdE",
        "outputId": "d44cff32-e5d6-41c4-cc58-f6707db0c37a"
      },
      "execution_count": 62,
      "outputs": [
        {
          "output_type": "stream",
          "name": "stdout",
          "text": [
            "[12, 24, 56, 34, 23, 1, 21, 23, 54, 34, 23]\n"
          ]
        }
      ]
    },
    {
      "cell_type": "code",
      "source": [
        "#Extend function \n",
        "x=[\"John\",\"Mary\",\"david\",\"adam\"]\n",
        "y=[\"A\",\"B\",\"C\"]\n",
        "x.extend(y)\n",
        "print(x)"
      ],
      "metadata": {
        "colab": {
          "base_uri": "https://localhost:8080/"
        },
        "id": "0KigBmHa9Phe",
        "outputId": "b4ce27a2-2d41-44c6-c3a7-8a21b81796af"
      },
      "execution_count": 68,
      "outputs": [
        {
          "output_type": "stream",
          "name": "stdout",
          "text": [
            "['John', 'Mary', 'david', 'adam', 'A', 'B', 'C']\n"
          ]
        }
      ]
    },
    {
      "cell_type": "code",
      "source": [
        "x=[1,2,3,4,5,\"ABC\",\"DEF\"]\n",
        "x.count(3)"
      ],
      "metadata": {
        "colab": {
          "base_uri": "https://localhost:8080/"
        },
        "id": "tr4gTrAT_AIU",
        "outputId": "7d492dbb-d327-47ab-ef94-97ad34a51895"
      },
      "execution_count": 71,
      "outputs": [
        {
          "output_type": "execute_result",
          "data": {
            "text/plain": [
              "1"
            ]
          },
          "metadata": {},
          "execution_count": 71
        }
      ]
    },
    {
      "cell_type": "code",
      "source": [
        "x=[\"John\",\"Mary\",\"david\",\"adam\"]\n",
        "x[1:3]=['R','D']\n",
        "print(x)"
      ],
      "metadata": {
        "colab": {
          "base_uri": "https://localhost:8080/"
        },
        "id": "KtyYusI6ACj_",
        "outputId": "80506d76-903f-4a42-9898-a729b486b122"
      },
      "execution_count": 72,
      "outputs": [
        {
          "output_type": "stream",
          "name": "stdout",
          "text": [
            "['John', 'R', 'D', 'adam']\n"
          ]
        }
      ]
    },
    {
      "cell_type": "code",
      "source": [
        "#insert function\n",
        "x=[\"John\",\"Mary\",\"david\",\"adam\"]\n",
        "x.insert(2,\"Sourav\")\n",
        "print(x)"
      ],
      "metadata": {
        "colab": {
          "base_uri": "https://localhost:8080/"
        },
        "id": "wES--uG3BB9x",
        "outputId": "480a3742-29f9-4419-ed16-7dfb2e3bcf41"
      },
      "execution_count": 74,
      "outputs": [
        {
          "output_type": "stream",
          "name": "stdout",
          "text": [
            "['John', 'Mary', 'Sourav', 'david', 'adam']\n"
          ]
        }
      ]
    },
    {
      "cell_type": "code",
      "source": [
        "#remove function\n",
        "x=[\"John\",\"Mary\",\"david\",\"adam\"]\n",
        "x.remove(\"Mary\")\n",
        "print(x)"
      ],
      "metadata": {
        "colab": {
          "base_uri": "https://localhost:8080/"
        },
        "id": "NEIOIgP9BqiB",
        "outputId": "61187563-7c34-40b9-ba6d-4933129b60e3"
      },
      "execution_count": 77,
      "outputs": [
        {
          "output_type": "stream",
          "name": "stdout",
          "text": [
            "['John', 'david', 'adam']\n"
          ]
        }
      ]
    },
    {
      "cell_type": "code",
      "source": [
        "x=[\"John\",\"Mary\",\"david\",\"adam\"]\n",
        "del x[0]\n",
        "print(x)"
      ],
      "metadata": {
        "colab": {
          "base_uri": "https://localhost:8080/"
        },
        "id": "8rolUf-ACneX",
        "outputId": "7a5664bb-a1b2-459d-d93a-a8f85c91731e"
      },
      "execution_count": 88,
      "outputs": [
        {
          "output_type": "stream",
          "name": "stdout",
          "text": [
            "['Mary', 'david', 'adam']\n"
          ]
        }
      ]
    },
    {
      "cell_type": "code",
      "source": [],
      "metadata": {
        "id": "r90Uy20jDlha"
      },
      "execution_count": null,
      "outputs": []
    }
  ]
}