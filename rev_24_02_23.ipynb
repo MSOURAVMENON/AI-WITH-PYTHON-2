{
  "nbformat": 4,
  "nbformat_minor": 0,
  "metadata": {
    "colab": {
      "provenance": []
    },
    "kernelspec": {
      "name": "python3",
      "display_name": "Python 3"
    },
    "language_info": {
      "name": "python"
    }
  },
  "cells": [
    {
      "cell_type": "code",
      "execution_count": 8,
      "metadata": {
        "id": "9qZ5IEjQlVDB"
      },
      "outputs": [],
      "source": [
        "import pandas as pd\n",
        "df=pd.read_csv('/content/AAPL66.csv')\n"
      ]
    },
    {
      "cell_type": "code",
      "source": [
        "print(pd)"
      ],
      "metadata": {
        "colab": {
          "base_uri": "https://localhost:8080/"
        },
        "id": "dV0p1dzUl7PC",
        "outputId": "92e74f93-526d-48b5-80ec-8a2d19b144d6"
      },
      "execution_count": 9,
      "outputs": [
        {
          "output_type": "stream",
          "name": "stdout",
          "text": [
            "<module 'pandas' from '/usr/local/lib/python3.8/dist-packages/pandas/__init__.py'>\n"
          ]
        }
      ]
    },
    {
      "cell_type": "code",
      "source": [
        "import numpy as np \n",
        "import matplotlib.pyplot as plt "
      ],
      "metadata": {
        "id": "Innai5yQoT8g"
      },
      "execution_count": 10,
      "outputs": []
    },
    {
      "cell_type": "code",
      "source": [
        "x=df.iloc[:,:-1].values\n"
      ],
      "metadata": {
        "id": "jdiuLChapAWU"
      },
      "execution_count": 11,
      "outputs": []
    },
    {
      "cell_type": "code",
      "source": [
        "x  "
      ],
      "metadata": {
        "colab": {
          "base_uri": "https://localhost:8080/"
        },
        "id": "8gY6QmnEpN0-",
        "outputId": "a51fb88b-3d49-4a15-e7c6-87147536331f"
      },
      "execution_count": 14,
      "outputs": [
        {
          "output_type": "execute_result",
          "data": {
            "text/plain": [
              "array([[  1.],\n",
              "       [  2.],\n",
              "       [  3.],\n",
              "       [  4.],\n",
              "       [  5.],\n",
              "       [  6.],\n",
              "       [  7.],\n",
              "       [  8.],\n",
              "       [  9.],\n",
              "       [ 10.],\n",
              "       [ 11.],\n",
              "       [ 12.],\n",
              "       [ 13.],\n",
              "       [ 14.],\n",
              "       [ 15.],\n",
              "       [ 16.],\n",
              "       [ 17.],\n",
              "       [ 18.],\n",
              "       [ 19.],\n",
              "       [ 20.],\n",
              "       [ 21.],\n",
              "       [ 22.],\n",
              "       [ 23.],\n",
              "       [ 24.],\n",
              "       [ 25.],\n",
              "       [ 26.],\n",
              "       [ 27.],\n",
              "       [ 28.],\n",
              "       [ 29.],\n",
              "       [ 30.],\n",
              "       [ 31.],\n",
              "       [ 32.],\n",
              "       [ 33.],\n",
              "       [ 34.],\n",
              "       [ 35.],\n",
              "       [ 36.],\n",
              "       [ 37.],\n",
              "       [ 38.],\n",
              "       [ 39.],\n",
              "       [ 40.],\n",
              "       [ 41.],\n",
              "       [ 42.],\n",
              "       [ 43.],\n",
              "       [ 44.],\n",
              "       [ 45.],\n",
              "       [ 46.],\n",
              "       [ 47.],\n",
              "       [ 48.],\n",
              "       [ 49.],\n",
              "       [ 50.],\n",
              "       [ 51.],\n",
              "       [ 52.],\n",
              "       [ 53.],\n",
              "       [ 54.],\n",
              "       [ 55.],\n",
              "       [ 56.],\n",
              "       [ 57.],\n",
              "       [ 58.],\n",
              "       [ 59.],\n",
              "       [ 60.],\n",
              "       [ 61.],\n",
              "       [ 62.],\n",
              "       [ 63.],\n",
              "       [ 64.],\n",
              "       [ 65.],\n",
              "       [ 66.],\n",
              "       [ 67.],\n",
              "       [ 68.],\n",
              "       [ 69.],\n",
              "       [ 70.],\n",
              "       [ 71.],\n",
              "       [ 72.],\n",
              "       [ 73.],\n",
              "       [ 74.],\n",
              "       [ 75.],\n",
              "       [ 76.],\n",
              "       [ 77.],\n",
              "       [ 78.],\n",
              "       [ 79.],\n",
              "       [ 80.],\n",
              "       [ 81.],\n",
              "       [ 82.],\n",
              "       [ 83.],\n",
              "       [ 84.],\n",
              "       [ 85.],\n",
              "       [ 86.],\n",
              "       [ 87.],\n",
              "       [ 88.],\n",
              "       [ 89.],\n",
              "       [ 90.],\n",
              "       [ 91.],\n",
              "       [ 92.],\n",
              "       [ 93.],\n",
              "       [ 94.],\n",
              "       [ 95.],\n",
              "       [ 96.],\n",
              "       [ 97.],\n",
              "       [ 98.],\n",
              "       [ 99.],\n",
              "       [100.],\n",
              "       [101.],\n",
              "       [102.],\n",
              "       [103.],\n",
              "       [104.],\n",
              "       [105.],\n",
              "       [106.],\n",
              "       [107.],\n",
              "       [108.],\n",
              "       [109.],\n",
              "       [110.],\n",
              "       [111.],\n",
              "       [112.],\n",
              "       [113.],\n",
              "       [114.],\n",
              "       [115.],\n",
              "       [116.],\n",
              "       [117.],\n",
              "       [118.],\n",
              "       [119.],\n",
              "       [120.],\n",
              "       [121.],\n",
              "       [122.],\n",
              "       [123.],\n",
              "       [124.],\n",
              "       [125.],\n",
              "       [126.],\n",
              "       [127.],\n",
              "       [128.],\n",
              "       [129.],\n",
              "       [130.],\n",
              "       [131.],\n",
              "       [132.],\n",
              "       [133.],\n",
              "       [134.],\n",
              "       [135.],\n",
              "       [136.],\n",
              "       [137.],\n",
              "       [138.],\n",
              "       [139.],\n",
              "       [140.],\n",
              "       [141.],\n",
              "       [142.],\n",
              "       [143.],\n",
              "       [144.],\n",
              "       [145.],\n",
              "       [146.],\n",
              "       [147.],\n",
              "       [148.],\n",
              "       [149.],\n",
              "       [150.],\n",
              "       [151.],\n",
              "       [152.],\n",
              "       [153.],\n",
              "       [154.],\n",
              "       [155.],\n",
              "       [156.],\n",
              "       [157.],\n",
              "       [158.],\n",
              "       [159.],\n",
              "       [160.],\n",
              "       [161.],\n",
              "       [162.],\n",
              "       [163.],\n",
              "       [164.],\n",
              "       [165.],\n",
              "       [166.],\n",
              "       [167.],\n",
              "       [168.],\n",
              "       [169.],\n",
              "       [170.],\n",
              "       [171.],\n",
              "       [172.],\n",
              "       [173.],\n",
              "       [174.],\n",
              "       [175.],\n",
              "       [176.],\n",
              "       [177.],\n",
              "       [178.],\n",
              "       [179.],\n",
              "       [180.],\n",
              "       [181.],\n",
              "       [182.],\n",
              "       [183.],\n",
              "       [184.],\n",
              "       [185.],\n",
              "       [186.],\n",
              "       [187.],\n",
              "       [188.],\n",
              "       [189.],\n",
              "       [190.],\n",
              "       [191.],\n",
              "       [192.],\n",
              "       [193.],\n",
              "       [194.],\n",
              "       [195.],\n",
              "       [196.],\n",
              "       [197.],\n",
              "       [198.],\n",
              "       [199.],\n",
              "       [200.],\n",
              "       [201.],\n",
              "       [202.],\n",
              "       [203.],\n",
              "       [204.],\n",
              "       [205.],\n",
              "       [206.],\n",
              "       [207.],\n",
              "       [208.],\n",
              "       [209.],\n",
              "       [210.],\n",
              "       [211.],\n",
              "       [212.],\n",
              "       [213.],\n",
              "       [214.],\n",
              "       [215.],\n",
              "       [216.],\n",
              "       [217.],\n",
              "       [218.],\n",
              "       [219.],\n",
              "       [220.],\n",
              "       [221.],\n",
              "       [222.],\n",
              "       [223.],\n",
              "       [224.],\n",
              "       [225.],\n",
              "       [226.],\n",
              "       [227.],\n",
              "       [228.],\n",
              "       [229.],\n",
              "       [230.],\n",
              "       [231.],\n",
              "       [232.],\n",
              "       [233.],\n",
              "       [234.],\n",
              "       [235.],\n",
              "       [236.],\n",
              "       [237.],\n",
              "       [238.],\n",
              "       [239.],\n",
              "       [240.],\n",
              "       [241.],\n",
              "       [242.],\n",
              "       [243.],\n",
              "       [244.],\n",
              "       [245.],\n",
              "       [246.],\n",
              "       [247.],\n",
              "       [248.],\n",
              "       [249.],\n",
              "       [250.],\n",
              "       [251.],\n",
              "       [252.]])"
            ]
          },
          "metadata": {},
          "execution_count": 14
        }
      ]
    },
    {
      "cell_type": "code",
      "source": [
        " len (x)"
      ],
      "metadata": {
        "colab": {
          "base_uri": "https://localhost:8080/"
        },
        "id": "QbV-sLtNpXFf",
        "outputId": "807c8aa3-0a8a-4623-9ab8-1f3347fc524f"
      },
      "execution_count": 16,
      "outputs": [
        {
          "output_type": "execute_result",
          "data": {
            "text/plain": [
              "252"
            ]
          },
          "metadata": {},
          "execution_count": 16
        }
      ]
    },
    {
      "cell_type": "code",
      "source": [
        "y=df.iloc[:,1].values\n"
      ],
      "metadata": {
        "id": "pme3KHO8ssQw"
      },
      "execution_count": 18,
      "outputs": []
    },
    {
      "cell_type": "code",
      "source": [
        "y"
      ],
      "metadata": {
        "colab": {
          "base_uri": "https://localhost:8080/"
        },
        "id": "xSOlys_5t5Cz",
        "outputId": "a16100b0-edbf-41ed-c67b-b0353243df1d"
      },
      "execution_count": 19,
      "outputs": [
        {
          "output_type": "execute_result",
          "data": {
            "text/plain": [
              "array([165.539993, 152.580002, 163.839996, 163.059998, 164.699997,\n",
              "       164.389999, 168.470001, 164.490005, 163.360001, 158.820007,\n",
              "       161.479996, 160.199997, 158.929993, 151.449997, 150.899994,\n",
              "       157.050003, 158.610001, 160.509995, 163.509995, 165.509995,\n",
              "       167.990005, 171.059998, 173.880005, 172.169998, 176.690002,\n",
              "       178.550003, 177.839996, 174.029999, 174.570007, 177.5     ,\n",
              "       172.360001, 171.160004, 171.779999, 168.710007, 168.020004,\n",
              "       167.389999, 170.619995, 163.919998, 165.020004, 168.759995,\n",
              "       168.910004, 166.460007, 161.119995, 162.25    , 155.910004,\n",
              "       159.25    , 161.839996, 156.710007, 158.149994, 159.669998,\n",
              "       163.850006, 156.009995, 154.929993, 155.520004, 153.5     ,\n",
              "       142.770004, 144.589996, 145.550003, 148.860001, 146.850006,\n",
              "       139.880005, 139.089996, 137.789993, 140.809998, 138.429993,\n",
              "       137.389999, 145.389999, 149.070007, 149.899994, 147.830002,\n",
              "       146.899994, 147.029999, 144.350006, 148.580002, 147.080002,\n",
              "       140.279999, 132.869995, 133.130005, 134.289993, 132.080002,\n",
              "       130.070007, 133.419998, 134.789993, 136.820007, 139.899994,\n",
              "       142.699997, 142.130005, 137.460007, 137.25    , 136.039993,\n",
              "       137.770004, 141.350006, 143.289993, 145.259995, 145.669998,\n",
              "       145.759995, 142.990005, 144.080002, 149.779999, 150.740005,\n",
              "       147.919998, 151.119995, 154.5     , 155.389999, 154.009995,\n",
              "       152.259995, 152.580002, 156.979996, 161.240005, 161.009995,\n",
              "       160.100006, 160.839996, 166.009995, 163.210007, 166.369995,\n",
              "       164.020004, 167.679993, 170.059998, 169.820007, 171.520004,\n",
              "       172.779999, 172.770004, 173.75    , 173.029999, 169.690002,\n",
              "       167.080002, 167.320007, 168.779999, 170.570007, 161.149994,\n",
              "       162.130005, 160.309998, 156.639999, 159.75    , 156.470001,\n",
              "       154.820007, 154.639999, 155.470001, 159.589996, 159.899994,\n",
              "       154.789993, 154.649994, 151.210007, 149.309998, 153.399994,\n",
              "       157.339996, 152.380005, 151.190002, 149.660004, 152.740005,\n",
              "       147.639999, 146.100006, 141.279999, 138.210007, 145.029999,\n",
              "       144.070007, 145.809998, 142.539993, 140.419998, 139.899994,\n",
              "       139.130005, 134.990005, 144.309998, 141.070007, 145.490005,\n",
              "       141.690002, 143.020004, 142.869995, 147.190002, 150.089996,\n",
              "       150.960007, 148.070007, 148.199997, 153.160004, 155.080002,\n",
              "       148.949997, 142.059998, 142.089996, 137.110001, 140.410004,\n",
              "       138.5     , 141.240005, 145.820007, 148.970001, 152.220001,\n",
              "       149.130005, 146.429993, 152.309998, 150.160004, 148.130005,\n",
              "       149.449997, 148.309998, 145.139999, 144.289993, 141.399994,\n",
              "       148.210007, 145.960007, 147.770004, 147.070007, 142.190002,\n",
              "       142.360001, 142.339996, 142.699997, 149.5     , 145.350006,\n",
              "       141.110001, 136.690002, 135.110001, 131.389999, 132.979996,\n",
              "       134.350006, 130.919998, 131.380005, 129.669998, 127.989998,\n",
              "       128.410004, 130.279999, 126.889999, 127.129997, 126.010002,\n",
              "       130.470001, 130.259995, 131.25    , 133.880005, 132.029999,\n",
              "       134.830002, 136.820007, 134.080002, 135.279999, 138.119995,\n",
              "       140.309998, 140.889999, 143.169998, 143.160004, 144.960007,\n",
              "       142.699997, 143.970001, 148.899994, 148.029999, 152.570007,\n",
              "       150.639999, 153.880005, 153.779999, 149.460007, 150.949997,\n",
              "       152.119995, 153.110001, 153.509995, 152.350006, 150.199997,\n",
              "       148.869995, 150.089996])"
            ]
          },
          "metadata": {},
          "execution_count": 19
        }
      ]
    },
    {
      "cell_type": "code",
      "source": [
        "from sklearn.linear_model import LinearRegression\n",
        "regressor =LinearRegression()\n",
        "regressor.fit(x,y)\n"
      ],
      "metadata": {
        "colab": {
          "base_uri": "https://localhost:8080/"
        },
        "id": "G9WK1Hzwt7vH",
        "outputId": "78e6c041-1c03-45b9-e8d3-bb54fe5612e5"
      },
      "execution_count": 22,
      "outputs": [
        {
          "output_type": "execute_result",
          "data": {
            "text/plain": [
              "LinearRegression()"
            ]
          },
          "metadata": {},
          "execution_count": 22
        }
      ]
    },
    {
      "cell_type": "code",
      "source": [
        "LinearRegression()\n"
      ],
      "metadata": {
        "colab": {
          "base_uri": "https://localhost:8080/"
        },
        "id": "VCB_8oIGwcOw",
        "outputId": "c1564454-b65a-456c-f893-f8060f6f367d"
      },
      "execution_count": 23,
      "outputs": [
        {
          "output_type": "execute_result",
          "data": {
            "text/plain": [
              "LinearRegression()"
            ]
          },
          "metadata": {},
          "execution_count": 23
        }
      ]
    },
    {
      "cell_type": "code",
      "source": [
        "y_pred=regressor.predict(x)\n"
      ],
      "metadata": {
        "id": "cUlt6pjwww2l"
      },
      "execution_count": 26,
      "outputs": []
    },
    {
      "cell_type": "code",
      "source": [
        "plt.scatter(x,y,color=\"blue\")\n",
        "plt.plot(x,regressor.predict(x),color=\"orange\")\n",
        "plt.xlabel(\"package\")\n",
        "plt.ylabel(\"sales\")\n",
        "plt.show()"
      ],
      "metadata": {
        "colab": {
          "base_uri": "https://localhost:8080/",
          "height": 279
        },
        "id": "TuccTSLlw3TR",
        "outputId": "a63dd72d-bf57-44dd-9634-d6af444f3106"
      },
      "execution_count": 29,
      "outputs": [
        {
          "output_type": "display_data",
          "data": {
            "text/plain": [
              "<Figure size 432x288 with 1 Axes>"
            ],
            "image/png": "[encoded data removed]"
          },
          "metadata": {
            "needs_background": "light"
          }
        }
      ]
    },
    {
      "cell_type": "code",
      "source": [],
      "metadata": {
        "id": "ce88Ixw5xnra"
      },
      "execution_count": null,
      "outputs": []
    }
  ]
}